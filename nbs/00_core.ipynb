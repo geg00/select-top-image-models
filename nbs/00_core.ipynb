{
 "cells": [
  {
   "cell_type": "markdown",
   "metadata": {},
   "source": [
    "# core\n",
    "\n",
    "> Fill in a module description here"
   ]
  },
  {
   "cell_type": "code",
   "execution_count": null,
   "metadata": {},
   "outputs": [],
   "source": [
    "#| default_exp core"
   ]
  },
  {
   "cell_type": "code",
   "execution_count": null,
   "metadata": {},
   "outputs": [],
   "source": [
    "#| hide\n",
    "from nbdev.showdoc import *"
   ]
  },
  {
   "cell_type": "code",
   "execution_count": null,
   "metadata": {},
   "outputs": [],
   "source": [
    "#| export\n",
    "from fastai.vision.all import *\n",
    "path = Path('/home/gegg00/Desktop/aiornot/')\n",
    "df = pd.read_csv(path/'train.csv')"
   ]
  },
  {
   "cell_type": "markdown",
   "metadata": {},
   "source": [
    "`<<<<<<< HEAD`"
   ]
  },
  {
   "cell_type": "code",
   "execution_count": null,
   "metadata": {},
   "outputs": [],
   "source": [
    "#| export\n",
    "def get_images(path):\n",
    "    return [path/'data/train'/i[0] for i in df.values]\n",
    "\n",
    "def get_label(o):\n",
    "    return df.iloc[Int(os.path.basename(o).split('.')[0])]['label'] "
   ]
  },
  {
   "cell_type": "code",
   "execution_count": null,
   "metadata": {},
   "outputs": [],
   "source": [
    "get_images(path)"
   ]
  },
  {
   "cell_type": "code",
   "execution_count": null,
   "metadata": {},
   "outputs": [],
   "source": [
    "#| export\n",
    "tst_files = get_image_files(path/'data/test').sorted()"
   ]
  },
  {
   "cell_type": "code",
   "execution_count": null,
   "metadata": {},
   "outputs": [],
   "source": [
    "def get_dls():\n",
    "    dls = DataBlock(\n",
    "        blocks=(ImageBlock, CategoryBlock), \n",
    "        get_items=get_images, \n",
    "        splitter=RandomSplitter(valid_pct=0.2, seed=42),\n",
    "        get_y=get_label,\n",
    "        item_tfms=[Resize(size, method='squish')],\n",
    "        batch_tfms=aug_transforms(size=size, min_scale=0.75)\n",
    "    ).dataloaders(path, bs=64//accum)"
   ]
  },
  {
   "cell_type": "code",
   "execution_count": null,
   "metadata": {},
   "outputs": [],
   "source": [
    "#| export\n",
    "def train(arch, size, accum=1, finetune=True, epochs=12):\n",
    "    dls = DataBlock(\n",
    "        blocks=(ImageBlock, CategoryBlock), \n",
    "        get_items=get_images, \n",
    "        splitter=RandomSplitter(valid_pct=0.2, seed=42),\n",
    "        get_y=get_label,\n",
    "        item_tfms=[Resize(size, method='squish')],\n",
    "        batch_tfms=aug_transforms(size=size, min_scale=0.75)\n",
    "    ).dataloaders(path, bs=64//accum)\n",
    "    cbs = GradientAccumulation(64) if accum else []\n",
    "    learn = vision_learner(dls, arch, metrics=error_rate, cbs=cbs).to_fp16()\n",
    "    if finetune:\n",
    "        learn.fine_tune(epochs, 0.01)\n",
    "        return learn.tta(dl=dls.test_dl(tst_files))\n",
    "    else:\n",
    "        learn.unfreeze()\n",
    "        learn.fit_one_cycle(epochs, 0.01)"
   ]
  },
  {
   "cell_type": "code",
   "execution_count": null,
   "metadata": {},
   "outputs": [],
   "source": [
    "#| export\n",
    "from fastcore.script import *\n",
    "@call_parse\n",
    "\n",
    "def main(arch:str,   #Model to use from timm \n",
    "         size:int,  #size of the images\n",
    "         accum:int, #size of the batch\n",
    "         epochs:int, #number of epochs\n",
    "         finetune:bool):  #Fine tune model\n",
    "    print(train(arch, size, accum, finetune, epochs=epochs))\n",
    "    #tst_files = get_image_files(path/'data/test').sorted()\n",
    "    #tst_dl = dls.test_dl(tst_files)"
   ]
  },
  {
   "cell_type": "markdown",
   "metadata": {},
   "source": [
    "`=======`"
   ]
  },
  {
   "cell_type": "markdown",
   "metadata": {},
   "source": [
    "`>>>>>>> eb1ff43f7cfffb7ddb7178e1cab58fc54ca5143d`"
   ]
  },
  {
   "cell_type": "code",
   "execution_count": null,
   "metadata": {},
   "outputs": [],
   "source": [
    "#| hide\n",
    "import nbdev; nbdev.nbdev_export()"
   ]
  },
  {
   "cell_type": "code",
   "execution_count": null,
   "metadata": {},
   "outputs": [],
   "source": []
  }
 ],
 "metadata": {
  "kernelspec": {
   "display_name": "Python 3",
   "language": "python",
   "name": "python3"
  },
  "language_info": {
   "codemirror_mode": {
    "name": "ipython",
    "version": 3
   },
   "file_extension": ".py",
   "mimetype": "text/x-python",
   "name": "python",
   "nbconvert_exporter": "python",
   "pygments_lexer": "ipython3",
   "version": "3.10.8"
  },
  "vscode": {
   "interpreter": {
    "hash": "1661840d36f3105d529ce13b3b757bedf10e6ff2d627287cb94a606aa19d62a0"
   }
  }
 },
 "nbformat": 4,
 "nbformat_minor": 4
}

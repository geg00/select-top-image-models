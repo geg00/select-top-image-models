{
 "cells": [
  {
   "cell_type": "code",
   "execution_count": 1,
   "metadata": {},
   "outputs": [],
   "source": [
    "import torch\n",
    "from torch import nn\n",
    "from torch.utils.data import DataLoader\n",
    "from torchvision import datasets\n",
    "from torchvision.transforms import ToTensor"
   ]
  },
  {
   "cell_type": "code",
   "execution_count": 2,
   "metadata": {},
   "outputs": [],
   "source": [
    "# Download training data from open datasets.\n",
    "training_data = datasets.FashionMNIST(\n",
    "    root=\"data\",\n",
    "    train=True,\n",
    "    download=True,\n",
    "    transform=ToTensor(),\n",
    ")\n",
    "\n",
    "# Download test data from open datasets.\n",
    "test_data = datasets.FashionMNIST(\n",
    "    root=\"data\",\n",
    "    train=False,\n",
    "    download=True,\n",
    "    transform=ToTensor(),\n",
    ")"
   ]
  },
  {
   "cell_type": "code",
   "execution_count": 3,
   "metadata": {},
   "outputs": [
    {
     "name": "stdout",
     "output_type": "stream",
     "text": [
      "Shape of X [N, C, H, W]: torch.Size([64, 1, 28, 28])\n",
      "Shape of y: torch.Size([64]) torch.int64\n"
     ]
    }
   ],
   "source": [
    "batch_size = 64\n",
    "\n",
    "# Create data loaders.\n",
    "train_dataloader = DataLoader(training_data, batch_size=batch_size)\n",
    "test_dataloader = DataLoader(test_data, batch_size=batch_size)\n",
    "\n",
    "for X, y in test_dataloader:\n",
    "    print(f\"Shape of X [N, C, H, W]: {X.shape}\")\n",
    "    print(f\"Shape of y: {y.shape} {y.dtype}\")\n",
    "    break"
   ]
  },
  {
   "cell_type": "code",
   "execution_count": 4,
   "metadata": {},
   "outputs": [
    {
     "name": "stdout",
     "output_type": "stream",
     "text": [
      "Using cuda device\n",
      "NeuralNetwork(\n",
      "  (flatten): Flatten(start_dim=1, end_dim=-1)\n",
      "  (linear_relu_stack): Sequential(\n",
      "    (0): Linear(in_features=784, out_features=512, bias=True)\n",
      "    (1): ReLU()\n",
      "    (2): Linear(in_features=512, out_features=512, bias=True)\n",
      "    (3): ReLU()\n",
      "    (4): Linear(in_features=512, out_features=10, bias=True)\n",
      "  )\n",
      ")\n"
     ]
    }
   ],
   "source": [
    "# Get cpu or gpu device for training.\n",
    "device = \"cuda\" if torch.cuda.is_available() else \"mps\" if torch.backends.mps.is_available() else \"cpu\"\n",
    "print(f\"Using {device} device\")\n",
    "\n",
    "# Define model\n",
    "class NeuralNetwork(nn.Module):\n",
    "    def __init__(self):\n",
    "        super().__init__()\n",
    "        self.flatten = nn.Flatten()\n",
    "        self.linear_relu_stack = nn.Sequential(\n",
    "            nn.Linear(28*28, 512),\n",
    "            nn.ReLU(),\n",
    "            nn.Linear(512, 512),\n",
    "            nn.ReLU(),\n",
    "            nn.Linear(512, 10)\n",
    "        )\n",
    "\n",
    "    def forward(self, x):\n",
    "        x = self.flatten(x)\n",
    "        logits = self.linear_relu_stack(x)\n",
    "        return logits\n",
    "\n",
    "model = NeuralNetwork().to(device)\n",
    "print(model)"
   ]
  },
  {
   "cell_type": "code",
   "execution_count": 5,
   "metadata": {},
   "outputs": [],
   "source": [
    "loss_fn = nn.CrossEntropyLoss()\n",
    "optimizer = torch.optim.SGD(model.parameters(), lr=1e-3)"
   ]
  },
  {
   "cell_type": "code",
   "execution_count": 6,
   "metadata": {},
   "outputs": [],
   "source": [
    "def train(dataloader, model, loss_fn, optimizer):\n",
    "    size = len(dataloader.dataset)\n",
    "    model.train()\n",
    "    for batch, (X, y) in enumerate(dataloader):\n",
    "        X, y = X.to(device), y.to(device)\n",
    "\n",
    "        # Compute prediction error\n",
    "        pred = model(X)\n",
    "        loss = loss_fn(pred, y)\n",
    "\n",
    "        # Backpropagation\n",
    "        optimizer.zero_grad()\n",
    "        loss.backward()\n",
    "        optimizer.step()\n",
    "\n",
    "        if batch % 100 == 0:\n",
    "            loss, current = loss.item(), batch * len(X)\n",
    "            print(f\"loss: {loss:>7f}  [{current:>5d}/{size:>5d}]\")"
   ]
  },
  {
   "cell_type": "code",
   "execution_count": 7,
   "metadata": {},
   "outputs": [],
   "source": [
    "def test(dataloader, model, loss_fn):\n",
    "    size = len(dataloader.dataset)\n",
    "    num_batches = len(dataloader)\n",
    "    model.eval()\n",
    "    test_loss, correct = 0, 0\n",
    "    with torch.no_grad():\n",
    "        for X, y in dataloader:\n",
    "            X, y = X.to(device), y.to(device)\n",
    "            pred = model(X)\n",
    "            test_loss += loss_fn(pred, y).item()\n",
    "            correct += (pred.argmax(1) == y).type(torch.float).sum().item()\n",
    "    test_loss /= num_batches\n",
    "    correct /= size\n",
    "    print(f\"Test Error: \\n Accuracy: {(100*correct):>0.1f}%, Avg loss: {test_loss:>8f} \\n\")"
   ]
  },
  {
   "cell_type": "code",
   "execution_count": 8,
   "metadata": {},
   "outputs": [
    {
     "name": "stdout",
     "output_type": "stream",
     "text": [
      "Epoch 1\n",
      "-------------------------------\n",
<<<<<<< HEAD
      "loss: 2.305674  [    0/60000]\n",
      "loss: 2.292025  [ 6400/60000]\n",
      "loss: 2.271952  [12800/60000]\n",
      "loss: 2.265313  [19200/60000]\n",
      "loss: 2.252865  [25600/60000]\n",
      "loss: 2.222837  [32000/60000]\n",
      "loss: 2.220335  [38400/60000]\n",
      "loss: 2.191149  [44800/60000]\n",
      "loss: 2.187359  [51200/60000]\n",
      "loss: 2.148067  [57600/60000]\n",
      "Test Error: \n",
      " Accuracy: 55.2%, Avg loss: 2.149047 \n",
      "\n",
      "Epoch 2\n",
      "-------------------------------\n",
      "loss: 2.159119  [    0/60000]\n",
      "loss: 2.149889  [ 6400/60000]\n",
      "loss: 2.085654  [12800/60000]\n",
      "loss: 2.103945  [19200/60000]\n",
      "loss: 2.054739  [25600/60000]\n",
      "loss: 1.987105  [32000/60000]\n",
      "loss: 2.005939  [38400/60000]\n",
      "loss: 1.928327  [44800/60000]\n",
      "loss: 1.941345  [51200/60000]\n",
      "loss: 1.849018  [57600/60000]\n",
      "Test Error: \n",
      " Accuracy: 60.2%, Avg loss: 1.862703 \n",
      "\n",
      "Epoch 3\n",
      "-------------------------------\n",
      "loss: 1.897036  [    0/60000]\n",
      "loss: 1.867680  [ 6400/60000]\n",
      "loss: 1.746570  [12800/60000]\n",
      "loss: 1.790592  [19200/60000]\n",
      "loss: 1.679251  [25600/60000]\n",
      "loss: 1.623430  [32000/60000]\n",
      "loss: 1.637709  [38400/60000]\n",
      "loss: 1.544304  [44800/60000]\n",
      "loss: 1.576945  [51200/60000]\n",
      "loss: 1.459716  [57600/60000]\n",
      "Test Error: \n",
      " Accuracy: 62.9%, Avg loss: 1.490948 \n",
      "\n",
      "Epoch 4\n",
      "-------------------------------\n",
      "loss: 1.557603  [    0/60000]\n",
      "loss: 1.523231  [ 6400/60000]\n",
      "loss: 1.376151  [12800/60000]\n",
      "loss: 1.451301  [19200/60000]\n",
      "loss: 1.328734  [25600/60000]\n",
      "loss: 1.321946  [32000/60000]\n",
      "loss: 1.329542  [38400/60000]\n",
      "loss: 1.256653  [44800/60000]\n",
      "loss: 1.297601  [51200/60000]\n",
      "loss: 1.200189  [57600/60000]\n",
      "Test Error: \n",
      " Accuracy: 64.4%, Avg loss: 1.228836 \n",
      "\n",
      "Epoch 5\n",
      "-------------------------------\n",
      "loss: 1.302929  [    0/60000]\n",
      "loss: 1.283949  [ 6400/60000]\n",
      "loss: 1.124752  [12800/60000]\n",
      "loss: 1.236766  [19200/60000]\n",
      "loss: 1.103030  [25600/60000]\n",
      "loss: 1.127540  [32000/60000]\n",
      "loss: 1.144171  [38400/60000]\n",
      "loss: 1.079618  [44800/60000]\n",
      "loss: 1.125681  [51200/60000]\n",
      "loss: 1.049883  [57600/60000]\n",
      "Test Error: \n",
      " Accuracy: 65.2%, Avg loss: 1.069218 \n",
=======
      "loss: 2.300575  [    0/60000]\n",
      "loss: 2.283075  [ 6400/60000]\n",
      "loss: 2.268344  [12800/60000]\n",
      "loss: 2.256124  [19200/60000]\n",
      "loss: 2.237864  [25600/60000]\n",
      "loss: 2.210220  [32000/60000]\n",
      "loss: 2.214224  [38400/60000]\n",
      "loss: 2.177401  [44800/60000]\n",
      "loss: 2.169306  [51200/60000]\n",
      "loss: 2.134848  [57600/60000]\n",
      "Test Error: \n",
      " Accuracy: 42.9%, Avg loss: 2.129141 \n",
      "\n",
      "Epoch 2\n",
      "-------------------------------\n",
      "loss: 2.143729  [    0/60000]\n",
      "loss: 2.126689  [ 6400/60000]\n",
      "loss: 2.069053  [12800/60000]\n",
      "loss: 2.080242  [19200/60000]\n",
      "loss: 2.016022  [25600/60000]\n",
      "loss: 1.959981  [32000/60000]\n",
      "loss: 1.980257  [38400/60000]\n",
      "loss: 1.890964  [44800/60000]\n",
      "loss: 1.899344  [51200/60000]\n",
      "loss: 1.821468  [57600/60000]\n",
      "Test Error: \n",
      " Accuracy: 57.8%, Avg loss: 1.823464 \n",
      "\n",
      "Epoch 3\n",
      "-------------------------------\n",
      "loss: 1.860931  [    0/60000]\n",
      "loss: 1.829583  [ 6400/60000]\n",
      "loss: 1.707817  [12800/60000]\n",
      "loss: 1.750209  [19200/60000]\n",
      "loss: 1.632399  [25600/60000]\n",
      "loss: 1.593146  [32000/60000]\n",
      "loss: 1.609109  [38400/60000]\n",
      "loss: 1.510215  [44800/60000]\n",
      "loss: 1.542728  [51200/60000]\n",
      "loss: 1.438740  [57600/60000]\n",
      "Test Error: \n",
      " Accuracy: 61.3%, Avg loss: 1.463994 \n",
      "\n",
      "Epoch 4\n",
      "-------------------------------\n",
      "loss: 1.532670  [    0/60000]\n",
      "loss: 1.505106  [ 6400/60000]\n",
      "loss: 1.355572  [12800/60000]\n",
      "loss: 1.427799  [19200/60000]\n",
      "loss: 1.308947  [25600/60000]\n",
      "loss: 1.312004  [32000/60000]\n",
      "loss: 1.321054  [38400/60000]\n",
      "loss: 1.247760  [44800/60000]\n",
      "loss: 1.288889  [51200/60000]\n",
      "loss: 1.194519  [57600/60000]\n",
      "Test Error: \n",
      " Accuracy: 63.1%, Avg loss: 1.222764 \n",
      "\n",
      "Epoch 5\n",
      "-------------------------------\n",
      "loss: 1.299469  [    0/60000]\n",
      "loss: 1.287257  [ 6400/60000]\n",
      "loss: 1.123479  [12800/60000]\n",
      "loss: 1.227079  [19200/60000]\n",
      "loss: 1.104824  [25600/60000]\n",
      "loss: 1.131322  [32000/60000]\n",
      "loss: 1.147698  [38400/60000]\n",
      "loss: 1.086975  [44800/60000]\n",
      "loss: 1.131371  [51200/60000]\n",
      "loss: 1.051671  [57600/60000]\n",
      "Test Error: \n",
      " Accuracy: 64.6%, Avg loss: 1.073541 \n",
>>>>>>> 5f679c9e043284ddcd9bb3020690ac2637f05656
      "\n",
      "Done!\n"
     ]
    }
   ],
   "source": [
    "epochs = 5\n",
    "for t in range(epochs):\n",
    "    print(f\"Epoch {t+1}\\n-------------------------------\")\n",
    "    train(train_dataloader, model, loss_fn, optimizer)\n",
    "    test(test_dataloader, model, loss_fn)\n",
    "print(\"Done!\")"
   ]
  },
  {
   "cell_type": "code",
   "execution_count": 9,
   "metadata": {},
   "outputs": [
    {
     "name": "stdout",
     "output_type": "stream",
     "text": [
      "Saved PyTorch Model State to model.pth\n"
     ]
    }
   ],
   "source": [
    "torch.save(model.state_dict(), \"model.pth\")\n",
    "print(\"Saved PyTorch Model State to model.pth\")"
   ]
  },
  {
   "cell_type": "code",
   "execution_count": 10,
   "metadata": {},
   "outputs": [
    {
     "data": {
      "text/plain": [
       "<All keys matched successfully>"
      ]
     },
     "execution_count": 10,
     "metadata": {},
     "output_type": "execute_result"
    }
   ],
   "source": [
    "model = NeuralNetwork()\n",
    "model.load_state_dict(torch.load(\"model.pth\"))"
   ]
  },
  {
   "cell_type": "code",
   "execution_count": 11,
   "metadata": {},
   "outputs": [
    {
     "name": "stdout",
     "output_type": "stream",
     "text": [
      "Predicted: \"Ankle boot\", Actual: \"Ankle boot\"\n"
     ]
    }
   ],
   "source": [
    "classes = [\n",
    "    \"T-shirt/top\",\n",
    "    \"Trouser\",\n",
    "    \"Pullover\",\n",
    "    \"Dress\",\n",
    "    \"Coat\",\n",
    "    \"Sandal\",\n",
    "    \"Shirt\",\n",
    "    \"Sneaker\",\n",
    "    \"Bag\",\n",
    "    \"Ankle boot\",\n",
    "]\n",
    "\n",
    "model.eval()\n",
    "x, y = test_data[0][0], test_data[0][1]\n",
    "with torch.no_grad():\n",
    "    pred = model(x)\n",
    "    predicted, actual = classes[pred[0].argmax(0)], classes[y]\n",
    "    print(f'Predicted: \"{predicted}\", Actual: \"{actual}\"')"
   ]
  },
  {
   "cell_type": "code",
   "execution_count": 12,
   "metadata": {},
   "outputs": [
    {
     "data": {
      "text/plain": [
       "torch.Size([1, 28, 28])"
      ]
     },
     "execution_count": 12,
     "metadata": {},
     "output_type": "execute_result"
    }
   ],
   "source": [
    "x.shape"
   ]
  },
  {
   "cell_type": "code",
   "execution_count": null,
   "metadata": {},
   "outputs": [],
   "source": []
  }
 ],
 "metadata": {
  "kernelspec": {
   "display_name": "base",
   "language": "python",
   "name": "python3"
  },
  "language_info": {
   "codemirror_mode": {
    "name": "ipython",
    "version": 3
   },
   "file_extension": ".py",
   "mimetype": "text/x-python",
   "name": "python",
   "nbconvert_exporter": "python",
   "pygments_lexer": "ipython3",
   "version": "3.9.13"
  },
  "orig_nbformat": 4,
  "vscode": {
   "interpreter": {
    "hash": "2966b55927ad9cedef3303d7f378a358dfe713287389ca2962ac4bdb5757ea58"
   }
  }
 },
 "nbformat": 4,
 "nbformat_minor": 2
}
